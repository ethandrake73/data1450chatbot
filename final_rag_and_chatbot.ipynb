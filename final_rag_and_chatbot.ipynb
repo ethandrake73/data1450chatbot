{
 "cells": [
  {
   "cell_type": "markdown",
   "metadata": {},
   "source": [
    "### Importing packages and setting OpenAI as our LLM"
   ]
  },
  {
   "cell_type": "code",
   "execution_count": 142,
   "metadata": {},
   "outputs": [],
   "source": [
    "# %pip install PyPDF2\n",
    "# %pip install pdfminer.six\n",
    "\n",
    "import os\n",
    "from langchain_community.document_loaders import WebBaseLoader, PyPDFLoader\n",
    "from langchain_openai import OpenAIEmbeddings\n",
    "from langchain_community.vectorstores import FAISS\n",
    "from langchain_text_splitters import RecursiveCharacterTextSplitter\n",
    "from langchain.chains.combine_documents import create_stuff_documents_chain\n",
    "from langchain_core.prompts import ChatPromptTemplate\n",
    "from langchain.chains import create_retrieval_chain\n",
    "from langchain_openai import ChatOpenAI\n",
    "from PyPDF2 import PdfFileReader\n",
    "from pdfminer.high_level import extract_text\n",
    "\n",
    "# establishing ChatOpenAI as our language model\n",
    "openai_api_key = \"...\"\n",
    "llm = ChatOpenAI(openai_api_key = openai_api_key)"
   ]
  },
  {
   "cell_type": "markdown",
   "metadata": {},
   "source": [
    "### Setting up the corpus (~500 pdfs from the MA 20-80 DPU docket) with vector embeddings"
   ]
  },
  {
   "cell_type": "code",
   "execution_count": null,
   "metadata": {},
   "outputs": [],
   "source": [
    "# don't need to run this again, unless the pdf files change (just refer to the vector store below).\n",
    "\n",
    "# pdf_folder = \"pdf_files\"\n",
    "\n",
    "# # Get a list of all PDF files in the folder\n",
    "# pdf_files = [os.path.join(pdf_folder, file) for file in os.listdir(pdf_folder) if file.endswith(\".pdf\")]\n",
    "\n",
    "# # Create a corpus with the filenames\n",
    "# corpus = [os.path.splitext(os.path.basename(file))[0] for file in pdf_files]\n",
    "\n",
    "# pdf1 = \"pdf_files/pdf_1.pdf\"\n",
    "\n",
    "# # initialize the loader\n",
    "# loader = PyPDFLoader(pdf1)\n",
    "\n",
    "# # Initialize the list to store all documents\n",
    "# docs = []\n",
    "\n",
    "# # Iterate through the PDF files in the corpus and load each one\n",
    "# for pdf_file in pdf_files:\n",
    "#     loader = PyPDFLoader(pdf_file)\n",
    "#     documents = loader.load()\n",
    "#     # Append each document in the list of documents to docs\n",
    "#     docs.extend(documents)\n",
    "\n",
    "# # Split the documents into chunks of text\n",
    "# splitter = RecursiveCharacterTextSplitter(chunk_size=1000, chunk_overlap=100)\n",
    "# documents = splitter.split_documents(docs)"
   ]
  },
  {
   "cell_type": "code",
   "execution_count": null,
   "metadata": {},
   "outputs": [],
   "source": [
    "# creating our vector embeddings: (don't run again unless needed)\n",
    "# vector = FAISS.from_documents(documents, OpenAIEmbeddings(openai_api_key=openai_api_key))\n",
    "\n",
    "# # storing the vector embeddings to my computer\n",
    "# vector.save_local(\"vector_store\")"
   ]
  },
  {
   "cell_type": "code",
   "execution_count": 115,
   "metadata": {},
   "outputs": [],
   "source": [
    "# loading the vector embeddings as a retriever for the RAG\n",
    "x = FAISS.load_local(\"vector_store\", OpenAIEmbeddings(openai_api_key=openai_api_key), allow_dangerous_deserialization=True)\n",
    "\n",
    "retriever = x.as_retriever(search_kwargs={\"k\": 10})\n"
   ]
  },
  {
   "cell_type": "markdown",
   "metadata": {},
   "source": [
    "### Creating our first Q&A system!"
   ]
  },
  {
   "cell_type": "code",
   "execution_count": 10,
   "metadata": {},
   "outputs": [],
   "source": [
    "# generating the RAG\n",
    "prompt = ChatPromptTemplate.from_template(\"\"\"Answer the following question based only on the provided context. \\\n",
    "                                          If there is not enough provided context, do not answer the question.\n",
    "\n",
    "<context>\n",
    "{context}\n",
    "</context>\n",
    "\n",
    "Question: {input}\"\"\")\n",
    "\n",
    "document_chain = create_stuff_documents_chain(llm, prompt)"
   ]
  },
  {
   "cell_type": "code",
   "execution_count": 11,
   "metadata": {},
   "outputs": [
    {
     "name": "stdout",
     "output_type": "stream",
     "text": [
      "The United Steelworkers of America represent a significant portion of workers at Eversource, EGMA, National Grid, and Berkshire Gas in Massachusetts. They are concerned about the models and processes related to labor unions in these companies and believe that a just transition is necessary, with the voices of labor being included in the dialogue. They emphasize the importance of decent pay, good benefits, working conditions, and safety for employees.\n"
     ]
    }
   ],
   "source": [
    "# Q&A for RAG\n",
    "retrieval_chain = create_retrieval_chain(retriever, document_chain)\n",
    "\n",
    "#answer\n",
    "response = retrieval_chain.invoke({\"input\": \"What do the United Steelworkers of America have to say?\"})\n",
    "print(response['answer'])\n"
   ]
  },
  {
   "cell_type": "code",
   "execution_count": 17,
   "metadata": {},
   "outputs": [
    {
     "data": {
      "text/plain": [
       "{'input': 'Are United Steelworkers of America stakeholders in the proceeding?',\n",
       " 'context': [Document(page_content='NEGWA  (Labor  discussion)  \\n\\uf0b7 Introductions and overview of Unions in Massachusetts and New England  \\n\\uf0b7 Nikki Horberg Decter, Segal Roitman  representing NEGWA and other unions  \\n\\uf0b7 Kathy Laflash, NEGWA , 1204 United Steelworkers employee at Eversource  \\n\\uf0b7 Jon Buonopane , NEGWA, United St eel W orkers  \\n\\uf0b7 Adam Lupino , Laborers Union  International, LiUNA!  \\n\\uf0b7 Nikki H D: Each of the LDCs in Massachusetts has a workforce that is represented in \\nwhole or in part by labor unions. The Steelworkers represent a significant portion of \\nworkers at Eversource, EGMA , National Grid, and Berkshire Gas. There are other \\nunions, notably utility workers who represent other portions of the internal gas workforce. \\nAs Adam described , there is a w hole world of outsid e contractors who support LDCs – \\nconstruction pipeline, di stribution lines, and infrastructure generally. What are the broad \\nthemes and concerns that the Union  sector  has about these models and the process?', metadata={'source': 'pdf_files/pdf_457.pdf', 'page': 256}),\n",
       "  Document(page_content=\"someone who was there and get a recap. This is redundant and we are wasting time. There is no need to have these discussions more than once.07/27/21 https://scs-public.s3-us-gov-\\nwest-\\n1.amazonaws.com/env_prod\\nuction/oid339/did200030/pid\\n_201562/assets/merged/1o0\\nkifp_document.pdf \\nO- 19 -1 Stakeholder \\nEngagement ProcessEmail Nicole Decter New England Gas \\nWorkers Alliancendecter@segalroitman.com To whom it may concern:    I am writing on behalf of my clients, --, a coalition representing United \\nSteelworker local unions whose over 2000 members are employed at National Grid, Eversource, EGMA, and Berkshire Gas.\\n O\\nn their behalf, I am requesting a special, stakeholder meeting to \\naddress the concerns of the LDCs' direct operations and maintenance employees relevant to this docket, as well as a stakeholder meeting of union representatives of unions representing LDC employees and unions representing workers employed by contractors to the LDCs.\\n   T\\nhrough its\", metadata={'source': 'pdf_files/pdf_457.pdf', 'page': 550}),\n",
       "  Document(page_content=\"46  Berkshire Gas DPU 20 -80 Local Public Outreach . Stakeholder \\nEngagement \\nProcess  To whom it may concern:    I am writing on behalf of my clients, --, a coalition \\nrepresent ing United Steelworker local unions whose over 2000 members are \\nemployed at National Grid, Eversource, EGMA, and Berkshire Gas.  On their \\nbehalf, I am requesting a special, stakeholder meeting to address the concerns \\nof the LDCs' direct operations and maint enance employees relevant to this \\ndocket, as well as a stakeholder meeting of union representatives of unions \\nrepresenting LDC employees and unions representing workers employed by \\ncontractors to the LDCs.    Through its orders on DPU 20 -80, the DPU identif ied \\nthree groups of stakeholders: Community, Policy/Technical, and Customer.  The \\nin-house workforces of the LDCs, and the unions who represent them, overlap \\nin some ways with each of these stakeholder groups, and can provide relevant\", metadata={'source': 'pdf_files/pdf_447.pdf', 'page': 61}),\n",
       "  Document(page_content='Future of Gas Monthly Stakeholder Meeting Participants  \\nLast Update: August 30 , 2021  \\n \\n \\n  \\nPipefitters Local 104  \\nPipefitters Local 537  \\nPlumbers and Gasfitters  \\nPLAN NE  \\nPowerOptions  \\nRepresentative Stebbins, State of Vermont  \\nRMI \\nSAFE  \\nSegal Roitman Labor and Employment  \\nSierra Club  \\nSnypse Energy Economics  \\nSprinklerfitters  Local 550  \\nThe Brattle Group  \\nThe Climate Reality Project Boston Metro Chapter  \\nThe Learning Project  \\nTown of Hopkinton  \\nTown of Lexington  \\nTown of Longmeadow  \\nUnited Journeymen of Plumbing and Pipefitting Industry  \\nUnited Steel Workers  \\nWellesley Select Board  \\nWestern Mass Economic Development Council  \\n \\n  \\nAttachment C\\nD.P.U. Stakeholder Engagement Process Report \\nAppendix O \\nPage 23 of 23', metadata={'source': 'pdf_files/pdf_460.pdf', 'page': 60}),\n",
       "  Document(page_content='We need a just transition…the voices of \\nlabor need to be part of the dialog.  Must \\nhear from the employees who put their \\nlives on the line daily.  \\n See previous response.  \\n \\nTopic: Economic Considerations  \\nFeedback/Comment  Response or Action Taken  \\nThese companies have enlightened self -\\ninterest. They get their role as participants \\nin civil society and they also understand \\nwhat the risks are to their business models.  \\nD.P.U. Stakeholder Engagement Process Report \\nAppendix H \\nPage 7 of 26', metadata={'source': 'pdf_files/pdf_457.pdf', 'page': 362}),\n",
       "  Document(page_content='D.P.U. 20-80 \\nStakeholder Comments on Stakeholder Document  \\n \\n9 \\n New England Gas Workers Association  \\nProposed Revision/Comment Comments \\n• Each LDCs’ unionized workforce should participate in the \\nprocess \\n \\n• Stakeholder input should be permitted on the consultant’s \\nworkplan strategy at the outset and at least quarterly  \\n \\n• Implement concrete calendar of focused group sessions with \\ndifferent segments to address relevant and emerging issues  \\n Agree with union representative s’ \\nparticipation  \\n \\nAgree with calendar of sessions and issues \\nwith the caveat that they are subject to change/evolve as the process goes on  \\n• Amend Scope of Input (p.4)  to include workforce attrition, \\nrecruitment, development, continuity and transition strategies  \\n \\n• Consider how LDCs workforce can be trained and utilized over the next 30 years \\n \\n• Consider how to transition workforce and mitigate impact on \\nCommonwealth’s workforce  The LDCs will ask the consultant to consider', metadata={'source': 'pdf_files/pdf_457.pdf', 'page': 42}),\n",
       "  Document(page_content='D.P.U. 20-80 \\nStakeholder Comments on Stakeholder Document  \\n \\n9 \\n New England Gas Workers Association  \\nProposed Revision/Comment Comments \\n• Each LDCs’ unionized workforce should participate in the \\nprocess \\n \\n• Stakeholder input should be permitted on the consultant’s \\nworkplan strategy at the outset and at least quarterly  \\n \\n• Implement concrete calendar of focused group sessions with \\ndifferent segments to address relevant and emerging issues  \\n Agree with union representative s’ \\nparticipation  \\n \\nAgree with calendar of sessions and issues \\nwith the caveat that they are subject to change/evolve as the process goes on  \\n• Amend Scope of Input (p.4)  to include workforce attrition, \\nrecruitment, development, continuity and transition strategies  \\n \\n• Consider how LDCs workforce can be trained and utilized over the next 30 years \\n \\n• Consider how to transition workforce and mitigate impact on \\nCommonwealth’s workforce  The LDCs will ask the consultant to consider', metadata={'source': 'pdf_files/pdf_458.pdf', 'page': 174}),\n",
       "  Document(page_content='D.P.U. 20-80 \\nStakeholder Comments on Stakeholder Document  \\n \\n9 \\n New England Gas Workers Association  \\nProposed Revision/Comment Comments \\n• Each LDCs’ unionized workforce should participate in the \\nprocess \\n \\n• Stakeholder input should be permitted on the consultant’s \\nworkplan strategy at the outset and at least quarterly  \\n \\n• Implement concrete calendar of focused group sessions with \\ndifferent segments to address relevant and emerging issues  \\n Agree with union representative s’ \\nparticipation  \\n \\nAgree with calendar of sessions and issues \\nwith the caveat that they are subject to change/evolve as the process goes on  \\n• Amend Scope of Input (p.4)  to include workforce attrition, \\nrecruitment, development, continuity and transition strategies  \\n \\n• Consider how LDCs workforce can be trained and utilized over the next 30 years \\n \\n• Consider how to transition workforce and mitigate impact on \\nCommonwealth’s workforce  The LDCs will ask the consultant to consider', metadata={'source': 'pdf_files/pdf_458.pdf', 'page': 245}),\n",
       "  Document(page_content='D.P.U. 20-80 \\nStakeholder Comments on Stakeholder Document  \\n \\n9 \\n New England Gas Workers Association  \\nProposed Revision/Comment Comments \\n• Each LDCs’ unionized workforce should participate in the \\nprocess \\n \\n• Stakeholder input should be permitted on the consultant’s \\nworkplan strategy at the outset and at least quarterly  \\n \\n• Implement concrete calendar of focused group sessions with \\ndifferent segments to address relevant and emerging issues  \\n Agree with union representative s’ \\nparticipation  \\n \\nAgree with calendar of sessions and issues \\nwith the caveat that they are subject to change/evolve as the process goes on  \\n• Amend Scope of Input (p.4)  to include workforce attrition, \\nrecruitment, development, continuity and transition strategies  \\n \\n• Consider how LDCs workforce can be trained and utilized over the next 30 years \\n \\n• Consider how to transition workforce and mitigate impact on \\nCommonwealth’s workforce  The LDCs will ask the consultant to consider', metadata={'source': 'pdf_files/pdf_460.pdf', 'page': 339}),\n",
       "  Document(page_content='D.P.U. 20-80  \\nStakeholder Comments on Stakeholder Document  \\n \\n9 \\n New England Gas Workers Association  \\nProposed Revision/Comment Comments  \\n• Each LDCs’ unionized workforce should participate in the \\nprocess  \\n \\n• Stakeholder input should be permitted on the consultant’s \\nworkplan strategy at the outset and at least quarterly  \\n \\n• Implement concrete calendar of focused group sessions with \\ndifferent segments to address relevant and emerging issues  \\n Agree with union representative s’ \\nparticipation  \\n \\nAgree with calendar of sessions and issues \\nwith the caveat that they are subject to change/evolve as the process goes on  \\n• Amend Scope of Input (p.4)  to include workforce attrition, \\nrecruitment, development, continuity and transition strategies  \\n \\n• Consider how LDCs workforce can be trained and utilized over \\nthe next 30 years  \\n \\n• Consider how to transition workforce and mitigate impact on \\nCommonwealth’s workforce  The LDCs will ask the consultant to consider', metadata={'source': 'pdf_files/pdf_439.pdf', 'page': 43})],\n",
       " 'answer': 'Yes, the United Steelworkers of America are stakeholders in the proceeding as they represent a significant portion of workers at Eversource, EGMA, National Grid, and Berkshire Gas.'}"
      ]
     },
     "execution_count": 17,
     "metadata": {},
     "output_type": "execute_result"
    }
   ],
   "source": [
    "response"
   ]
  },
  {
   "cell_type": "markdown",
   "metadata": {},
   "source": [
    "### Using LangChain's Tools and Agent framework to create a chatbot"
   ]
  },
  {
   "cell_type": "markdown",
   "metadata": {},
   "source": [
    "#### Making our previous RAG a tool"
   ]
  },
  {
   "cell_type": "code",
   "execution_count": 67,
   "metadata": {},
   "outputs": [],
   "source": [
    "#RAG Tool retriever\n",
    "\n",
    "from langchain.tools.retriever import create_retriever_tool\n",
    "\n",
    "\n",
    "retriever_tool = create_retriever_tool(\n",
    "    retriever,\n",
    "    \"Massachusetts_2080_General_RAG\",\n",
    "    \"This tool must be used to answer any specific questions about the Massachusetts 2080 proceeding a.k.a. the Future of Gas in Massachusetts, or the DPU's gas distribution proceeding.\",\n",
    ")"
   ]
  },
  {
   "cell_type": "markdown",
   "metadata": {},
   "source": [
    "#### Including web search as a tool for our chatbot"
   ]
  },
  {
   "cell_type": "code",
   "execution_count": 69,
   "metadata": {},
   "outputs": [],
   "source": [
    "#TAVILY\n",
    "from langchain_community.tools.tavily_search import TavilySearchResults\n",
    "\n",
    "# load tavily API key \n",
    "os.environ[\"TAVILY_API_KEY\"] = \"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\"\n",
    "\n",
    "tavily_api_key = os.getenv(\"TAVILY_API_KEY\")\n",
    "\n",
    "# create search object \n",
    "search_tool = TavilySearchResults(tavily_api_key=tavily_api_key)\n"
   ]
  },
  {
   "cell_type": "markdown",
   "metadata": {},
   "source": [
    "#### Creating another RAG for our chatbot with just the 140 page summary document of the 20-80 DPU case"
   ]
  },
  {
   "cell_type": "code",
   "execution_count": 144,
   "metadata": {},
   "outputs": [],
   "source": [
    "# Finally, creating one more RAG for summary questions based on PDF #16\n",
    "\n",
    "pdf16 = \"pdf_files/pdf_16.pdf\"\n",
    "\n",
    "# initialize the loader\n",
    "loader = PyPDFLoader(pdf16)\n",
    "\n",
    "doc_summary = loader.load()\n",
    "\n",
    "splitter = RecursiveCharacterTextSplitter(chunk_size=1000, chunk_overlap=100)\n",
    "documents_summary = splitter.split_documents(doc_summary)\n"
   ]
  },
  {
   "cell_type": "code",
   "execution_count": 120,
   "metadata": {},
   "outputs": [],
   "source": [
    "## creating our vector embeddings for pdf16 summary document: (don't run again unless needed)\n",
    "# vector_summary = FAISS.from_documents(documents_summary, OpenAIEmbeddings(openai_api_key=openai_api_key))\n",
    "\n",
    "# vector_summary.save_local(\"pdf16_vector_store\")"
   ]
  },
  {
   "cell_type": "code",
   "execution_count": 121,
   "metadata": {},
   "outputs": [],
   "source": [
    "y = FAISS.load_local(\"pdf16_vector_store\", OpenAIEmbeddings(openai_api_key=openai_api_key), allow_dangerous_deserialization=True)\n",
    "\n",
    "retriever_summary = y.as_retriever(search_kwargs={\"k\": 10})"
   ]
  },
  {
   "cell_type": "code",
   "execution_count": 123,
   "metadata": {},
   "outputs": [],
   "source": [
    "# Summary RAG tool\n",
    "\n",
    "summary_retriever_tool = create_retriever_tool(\n",
    "    retriever_summary,\n",
    "    \"Massachusetts_2080_Summary_RAG\",\n",
    "    \"This tool must be used to answer any summary questions about the conclusion (aka anything related to the final order) \\\n",
    "        of the Massachusetts 2080 proceeding a.k.a. the Future of Gas in Massachusetts, or the DPU's gas distribution proceeding.\",\n",
    ")"
   ]
  },
  {
   "cell_type": "markdown",
   "metadata": {},
   "source": [
    "#### Initializing the tools"
   ]
  },
  {
   "cell_type": "code",
   "execution_count": 124,
   "metadata": {},
   "outputs": [],
   "source": [
    "#List of tools\n",
    "tools = [retriever_tool, search_tool, summary_retriever_tool]"
   ]
  },
  {
   "cell_type": "markdown",
   "metadata": {},
   "source": [
    "#### Initializing the agent"
   ]
  },
  {
   "cell_type": "code",
   "execution_count": 133,
   "metadata": {},
   "outputs": [],
   "source": [
    "from langchain import hub\n",
    "from langchain.agents import create_openai_tools_agent\n",
    "from langchain.agents import AgentExecutor\n",
    "\n",
    "# Get the prompt to use - you can modify this!\n",
    "prompt = ChatPromptTemplate.from_messages(\n",
    "    [\n",
    "        (\n",
    "            \"system\",\n",
    "            \"You are a helpful assistant. You may not need to use tools for every query - the user may just want to chat!\",\n",
    "        ),\n",
    "        MessagesPlaceholder(variable_name=\"chat_history\"),\n",
    "        (\"human\", \"{input}\"),\n",
    "        MessagesPlaceholder(variable_name=\"agent_scratchpad\"),\n",
    "    ]\n",
    ")\n",
    "\n",
    "# You need to set OPENAI_API_KEY environment variable or pass it as argument `api_key`.\n",
    "llm = ChatOpenAI(model=\"gpt-3.5-turbo\", temperature=0, openai_api_key=openai_api_key)\n",
    "agent = create_openai_tools_agent(llm, tools, prompt)\n",
    "agent_executor = AgentExecutor(agent=agent, tools=tools, verbose=True)"
   ]
  },
  {
   "cell_type": "markdown",
   "metadata": {},
   "source": [
    "#### Making the chatbot conversational by using chat history"
   ]
  },
  {
   "cell_type": "code",
   "execution_count": 134,
   "metadata": {},
   "outputs": [],
   "source": [
    "# conversational agent\n",
    "from langchain.memory import ChatMessageHistory\n",
    "from langchain_core.runnables.history import RunnableWithMessageHistory\n",
    "\n",
    "demo_ephemeral_chat_history_for_chain = ChatMessageHistory()\n",
    "\n",
    "conversational_agent_executor = RunnableWithMessageHistory(\n",
    "    agent_executor,\n",
    "    lambda session_id: demo_ephemeral_chat_history_for_chain,\n",
    "    input_messages_key=\"input\",\n",
    "    output_messages_key=\"output\",\n",
    "    history_messages_key=\"chat_history\",\n",
    ")"
   ]
  },
  {
   "cell_type": "markdown",
   "metadata": {},
   "source": [
    "### Interacting with the chatbot!"
   ]
  },
  {
   "cell_type": "code",
   "execution_count": 149,
   "metadata": {},
   "outputs": [
    {
     "name": "stderr",
     "output_type": "stream",
     "text": [
      "Parent run 4adbdcda-6c63-496c-9e4c-ffb9d1fefc7c not found for run 2f76d791-e4da-490a-b0e3-91eb15350bd6. Treating as a root run.\n"
     ]
    },
    {
     "name": "stdout",
     "output_type": "stream",
     "text": [
      "\n",
      "\n",
      "\u001b[1m> Entering new AgentExecutor chain...\u001b[0m\n",
      "\u001b[32;1m\u001b[1;3m\n",
      "Invoking: `Massachusetts_2080_General_RAG` with `{'query': 'Secretary of the MA Department of Public Utilities during the 2080 proceeding'}`\n",
      "\n",
      "\n",
      "\u001b[0m\u001b[36;1m\u001b[1;3mThe Commonwealth of Massachusetts  \n",
      " ——  \n",
      "DEPARTMENT OF PUBLIC UTILITIES  \n",
      "  \n",
      " \n",
      " \n",
      "D.P.U. 20 -80 June 29, 2021  \n",
      "Investigation by the Department of Public Utilities on its own Motion into the role of gas \n",
      "local distribution companies as the Commonwealth achieves its target 2050 climate goals.  \n",
      "________________________________ ________________________________ ____________   \n",
      "ORDER ON ATTORNEY GENERAL’S REVISED NOTICE  OF RETENTION  \n",
      "OF EXPERTS AND CONSULTANTS  \n",
      " \n",
      " APPEARANCE S: Maura Healey , Attorney General  \n",
      "Commonwealth of Massachusetts  \n",
      "By: Rebecca Tepper   \n",
      " Donald Boecke  \n",
      " JoAnn Bodemer  \n",
      " Jessica Freedman  \n",
      " Assistant Attorneys General  \n",
      "Office of Ratepayer Advocacy  \n",
      "One Ashburton Place  \n",
      "Boston, Massachusetts  02108  \n",
      "  Intervenor\n",
      "\n",
      "COMMONWEALTH OF MASSACHUSETTS  \n",
      "DEPARTMENT OF PUBLIC UTILITIES  \n",
      " \n",
      " \n",
      " \n",
      "Investigation by the Department of Public Utilities on its own Motion into the role of gas local distribution companies as the Commonwealth achieves its target 2050 climate goals   \n",
      "  D.P.U. 20-80  \n",
      "   \n",
      "CERTIFICATE OF SERVICE  \n",
      " \n",
      "I hereby certify that I have this day served the foregoing document upon all parties of \n",
      "record in this proceeding in accordance with the requirements of 220 C.M.R. 1.05(1) \n",
      "(Department’s Rules of Practice and Proced ure).  Dated at Boston this 22nd day of January 2024. \n",
      "       /s/ Jessica R. Freedman  \n",
      "  Jessica R. Freedman  \n",
      "        Assistant Attorney General  \n",
      " Office of the Attorney General  \n",
      " Office of Ratepayer Advocacy  \n",
      " One Ashburton Place  \n",
      " Boston, MA 02108   (617) 727-2200\n",
      "\n",
      "THE COMMONWEALTH OF MASSACHUSETTS  \n",
      "DEPARTMENT OF PUBLIC UTILITIES  \n",
      "        \n",
      "       ) \n",
      "Investigation by the Department of Public Utilities  ) \n",
      "into the role of gas local distribution companies as  ) \n",
      "the Commonwealth achieves its    )   D.P.U. 20- 80 \n",
      "target 2050 cl imate goals    ) \n",
      "       ) \n",
      " \n",
      "APPEARANCES  OF COUNSEL  \n",
      " \n",
      " In the above -entitled proceeding, the undersigned  hereby appear for and on behalf of \n",
      "Boston Gas Company d/b/a National Grid . \n",
      "         Respectfully submitted,  \n",
      " \n",
      " \n",
      " \n",
      " \n",
      " \n",
      " \n",
      "  \n",
      "John K. Habib, Esq.  \n",
      "Ashley S. Marton, Esq. \n",
      "Keegan Werlin LLP  \n",
      "99 High Street, Ste. 2900  \n",
      "Boston, MA 02110  \n",
      "Phone - (617) 951- 1400  \n",
      "Email: jhabib @keeganwerlin.com  \n",
      "Email: amarton@keeganwerlin.com   \n",
      " \n",
      "         \n",
      " Dated : March 18, 2022\n",
      "\n",
      "The Commonwealth of Massachusetts  \n",
      " ——  \n",
      "DEPARTMENT OF PUBLIC UTILITIES  \n",
      "  \n",
      " D.P.U. 20 -80-B December 6, 2023  \n",
      "Investigation by the Department of Public Utilities on its own Motion into the role  of gas \n",
      "local distribution companies as the Commonwealth achieves its target 2050 climate goals . \n",
      "____________________________________________________________________________  \n",
      "ORDER ON REGULATORY PRINCIPLES AND FRAMEWORK\n",
      "\n",
      "The Commonwealth of Massachusetts  \n",
      " ——  \n",
      "DEPARTMENT OF PUBLIC UTILITIES  \n",
      "  \n",
      " D.P.U. 20 -80 October 29, 2020  \n",
      "Investigation  by the Department of Public Utilities on its own Motion into the role of gas \n",
      "local distribution companies as the Commonwealth achieves its target 2050 climate goals . \n",
      " \n",
      " \n",
      "VOTE AND ORDER OPENING INVESTIGATION\n",
      "\n",
      "THE COMMONWEALTH OF MASSACHUSETTS  \n",
      "DEPARTMENT OF PUBLIC UTILITIES  \n",
      "        \n",
      "       ) \n",
      "Investigation by the Department of Public Utilities  ) \n",
      "into the role of gas local distribution companies as  ) \n",
      "the Commonwealth achieves its    )   D.P.U. 20- 80 \n",
      "target 2050 cl imate goals    ) \n",
      "       ) \n",
      " \n",
      "APPEARANCES  OF COUNSEL  \n",
      " \n",
      " In the above -entitled proceeding, the undersigned  hereby appear for and on behalf of \n",
      "Boston Gas Company d/b/a National Grid . \n",
      "         Respectfully submitted,  \n",
      " \n",
      "        \n",
      " \n",
      " \n",
      " \n",
      "        __________________________ \n",
      "        Alex andra E. Blackmore, Esq. \n",
      "  Bess B. Gorman, Esq.  \n",
      "        Andrea G. Keeffe, Esq.   \n",
      "        National Grid USA Service Company, Inc.  \n",
      "        40 Sylvan Road \n",
      "        Waltham, M A 02451 \n",
      "        781-907-2123 \n",
      "        Alexandra .Blackmor e@nationalgrid.com  \n",
      "        Bess.Gorman@nationalgrid.com  \n",
      "        Andrea.K eeffe@nationalgrid.c om \n",
      " \n",
      "Dated : March 18, 2022\n",
      "\n",
      "May 6, 2022   VIA ELECTRONIC MAIL  Mark D. Marini, Secretary Department of Public Utilities  One South Station  Boston, Massachusetts 02110 dpu.efiling@mass.gov  sarah.smegal@mass.gov  RE: D.P.U. Docket No. 20-80—Investigation by the Department of Public Utilities on its own Motion into the role of gas local distribution companies as the Commonwealth achieves its target 2050 climate goals   Dear Secretary Marini and Hearing Officer Smegal:  On behalf of the Sierra Club and its more than 25,000 members in Massachusetts, Sierra Club submits the following comments in response to the Department of Public Utilities (DPU) March 23, 2022 Notice of Filing and Public Hearing relating to the Investigation by the Department of Public Utilities on its own Motion into the role of gas local distribution companies as the Commonwealth achieves its target 2050 climate goals, D.P.U. 20-80.    The Sierra Club supports the Department’s efforts to develop a framework through which to evaluate\n",
      "\n",
      "COMMONWEAL TH OF  MASSACHUSETTS\n",
      "DEP ARTMENT  OF PUBLIC UTILITIES\n",
      "______________________________________________\n",
      ")\n",
      "Proceedings into the Role of Gas Local Distribution )\n",
      "Companies as the Commonwealth Achieves its Target )\n",
      "2050 Climate Goals )\n",
      "_______________________________________________\n",
      "D.P.U. 20-80\n",
      "ALTERNA TIVE REGULA TORY PROPOSAL  by HOME ENERGY  EFFICIENCY\n",
      "TEAM, INC.\n",
      "Submitted by:\n",
      "Courtney Feeley Karp\n",
      "Jonathan S. Klavens\n",
      "Klavens Law Gr oup, P .C.\n",
      "20 Park Plaza, #402\n",
      "Boston, Massachusetts 021 16\n",
      "DATED: May 6, 2022\n",
      "\n",
      "THE COMMONWEALTH OF MASSACHUSETTS  \n",
      " \n",
      "DEPARTMENT OF PUBLIC UTILITIES  \n",
      " \n",
      " \n",
      "CHARLES D. BAKER  \n",
      "GOVERNOR  \n",
      " \n",
      "  KARYN E. POLITO  \n",
      "  LIEUTENANT GOVERNOR  \n",
      " \n",
      "KATHLEEN A . THEOHARIDES  \n",
      "SECRETARY OF ENERGY  \n",
      "AND ENVIRONMENTAL AFFAIRS  \n",
      " ONE SOUTH STATION  \n",
      "BOSTON, MA 02110  \n",
      "(617) 305- 3500 \n",
      " MATTHEW H. NELSON  \n",
      "CHAIR  \n",
      " \n",
      "ROBERT E. HAYDEN \n",
      "COMMISSIONER  \n",
      " \n",
      "CECILE M. FRASER  \n",
      "COMMISSIONER  \n",
      " \n",
      " \n",
      "   \n",
      " \n",
      "FAX: (617) 345- 9101 \n",
      "www.mass.gov/dpu  \n",
      " \n",
      "April 20, 2022  \n",
      "VIA ELECTRONIC MAIL ONLY  \n",
      "Alexandra Blackmore, Esq.  \n",
      "Andrea Keeffe, Esq.  \n",
      "Bess Gorman, Esq.  \n",
      "National Grid  \n",
      "alexandra.blackmore@us.ngrid.com  \n",
      "andrea.keeffe@nationalgrid.com  \n",
      "bess.gorman@nationalgrid.com  John K. Habib, Esq.  \n",
      "Ashley S. Wagner, Esq.  \n",
      "Keegan Werlin, LLP  \n",
      "jhabib@keeganwerlin.com  \n",
      "awagner@keeganwerlin.com  \n",
      " \n",
      "RE: Investigation by the Department of Public Utilities on its own Motion into the role of \n",
      "gas local distribution companies as the Commonwealth achieves its target 2050 climate \n",
      "goals, D.P.U. 20-80\n",
      "\n",
      "THE COMMONWEALTH OF MASSACHUSETTS  \n",
      " \n",
      "DEPARTMENT OF PUBLIC UTILITIES  \n",
      " \n",
      " \n",
      "CHARLES D. BAKER  \n",
      "GOVERNOR  \n",
      " \n",
      "  KARYN E. POLITO  \n",
      "  LIEUTENANT GOVERNOR  \n",
      " \n",
      "BETHANY A. CARD  \n",
      "SECRETARY OF ENERGY  \n",
      "AND ENVIRONMENTAL AFFAIRS  \n",
      " ONE SOUTH STATION  \n",
      "BOSTON, MA 02110  \n",
      "(617) 305- 3500 \n",
      " MATTHEW H. NELSON  \n",
      "CHAIR  \n",
      " \n",
      "ROBERT E. HAYDEN \n",
      "COMMISSIONER  \n",
      " \n",
      "CECILE M. FRASER  \n",
      "COMMISSIONER  \n",
      " \n",
      " \n",
      "   \n",
      " \n",
      "FAX: (617) 345- 9101 \n",
      "www.mass.gov/dpu  \n",
      " \n",
      "May 27, 2022  \n",
      "VIA ELECTRONIC MAIL ONLY  \n",
      "Alexandra Blackmore, Esq.  \n",
      "Andrea Keeffe, Esq.  \n",
      "Bess Gorman, Esq.  \n",
      "National Grid  \n",
      "alexandra.blackmore@us.ngrid.com  \n",
      "andrea.keeffe@nationalgrid.com  \n",
      "bess.gorman@nationalgrid.com  John K. Habib, Esq.  \n",
      "Ashley S. Wagner, Esq.  \n",
      "Keegan Werlin, LLP  \n",
      "jhabib@keeganwerlin.com  \n",
      "awagner@keeganwerlin.com  \n",
      " \n",
      "RE: Investigation by the Department of Public Utilities on its own Motion into the role of \n",
      "gas local distribution companies as the Commonwealth achieves its target 2050 climate \n",
      "goals, D.P.U. 20-80\u001b[0m\u001b[32;1m\u001b[1;3mDuring the 2080 proceeding, the Secretary of the Massachusetts Department of Public Utilities was Mark D. Marini. Based on his last name, his favorite pasta sauce might be a rich and savory marinara sauce with a hint of garlic and herbs.\u001b[0m\n",
      "\n",
      "\u001b[1m> Finished chain.\u001b[0m\n"
     ]
    }
   ],
   "source": [
    "response = conversational_agent_executor.invoke(\n",
    "    {\n",
    "        \"input\": \"Who was the secretary of the MA Department of Public Utilities during the 2080 proceeding? What do you think his favorite pasta sauce might be based on his last name?\",\n",
    "    },\n",
    "    {\"configurable\": {\"session_id\": \"unused\"}},\n",
    ")"
   ]
  },
  {
   "cell_type": "code",
   "execution_count": 148,
   "metadata": {},
   "outputs": [
    {
     "data": {
      "text/plain": [
       "{'input': 'Who was the secretary of the MA Department of Public Utilities during the 2080 proceeding? What do you think his favorite pasta sauce might be?',\n",
       " 'chat_history': [HumanMessage(content='What did the final order of Massachusetts 20-80 declare? Give me a summary with 5 bullet points.'),\n",
       "  AIMessage(content=\"The final order of the Massachusetts 20-80 proceeding declared the following:\\n\\n1. The Massachusetts gas local distribution companies are directed to comply with the directives outlined in the order.\\n2. A regulatory strategy has been set forth to move the Commonwealth beyond gas towards its climate objectives, including new reporting and analysis requirements.\\n3. The Department will facilitate a safe, orderly, and equitable transition for the LDCs and their customers while pursuing the Commonwealth's 2050 GHG emissions reductions mandate.\\n4. The order emphasizes the need to protect customers, particularly low-income and environmental justice populations, from rate shocks by evaluating decarbonization-specific rate structures.\\n5. Additional technical conferences will be scheduled to explore regulatory framework proposals after the comment deadline.\\n\\nThese points highlight the key aspects and directives outlined in the final order of the Massachusetts 20-80 proceeding.\"),\n",
       "  HumanMessage(content='What was the date that this order was released?'),\n",
       "  AIMessage(content='The final order of the Massachusetts 20-80 proceeding was released on March 23, 2022.'),\n",
       "  HumanMessage(content='What was the date that this order was released by the DPU?'),\n",
       "  AIMessage(content='The final order of the Massachusetts 20-80 proceeding was released by the Department of Public Utilities (DPU) on December 6, 2023.'),\n",
       "  HumanMessage(content='What was the date that this order was released by the DPU?'),\n",
       "  AIMessage(content='The final order of the Massachusetts 20-80 proceeding was released by the Department of Public Utilities (DPU) on March 23, 2022.'),\n",
       "  HumanMessage(content='Who is the secretary of the MA DPU? What do you think his favorite pasta sauce might be?'),\n",
       "  AIMessage(content=\"The Secretary of the Massachusetts Department of Public Utilities (DPU) is Katie Dykes. As for her favorite pasta sauce, it's hard to say for certain, but perhaps a classic marinara sauce with fresh tomatoes and basil could be a good guess!\"),\n",
       "  HumanMessage(content='Who is the secretary of the MA Department of Public Utilities? What do you think his favorite pasta sauce might be?'),\n",
       "  AIMessage(content=\"The Secretary of the Massachusetts Department of Public Utilities is Katie Dykes. As for her favorite pasta sauce, it's not explicitly mentioned in the search results. However, given her role and responsibilities, she might appreciate a flavorful and classic marinara sauce or a rich four cheese sauce for her pasta dishes.\")],\n",
       " 'output': \"During the 2080 proceeding, the Secretary of the Massachusetts Department of Public Utilities was Mark D. Marini. As for his favorite pasta sauce, it's hard to say for certain, but perhaps a classic marinara sauce with fresh tomatoes and basil could be a good guess!\"}"
      ]
     },
     "execution_count": 148,
     "metadata": {},
     "output_type": "execute_result"
    }
   ],
   "source": [
    "response"
   ]
  },
  {
   "cell_type": "code",
   "execution_count": null,
   "metadata": {},
   "outputs": [],
   "source": []
  }
 ],
 "metadata": {
  "kernelspec": {
   "display_name": "rag",
   "language": "python",
   "name": "python3"
  },
  "language_info": {
   "codemirror_mode": {
    "name": "ipython",
    "version": 3
   },
   "file_extension": ".py",
   "mimetype": "text/x-python",
   "name": "python",
   "nbconvert_exporter": "python",
   "pygments_lexer": "ipython3",
   "version": "3.12.2"
  }
 },
 "nbformat": 4,
 "nbformat_minor": 2
}
